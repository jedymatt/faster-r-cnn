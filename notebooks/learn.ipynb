{
 "cells": [
  {
   "cell_type": "markdown",
   "id": "a48a47ee-ef27-40e8-9537-cf8ba165aa2b",
   "metadata": {},
   "source": [
    "# Note: This is not a part of the actual Faster R-CNN Implementation as this is only used for the learning purposes of the researcher"
   ]
  },
  {
   "cell_type": "code",
   "execution_count": 4,
   "id": "74aa0e16-7d03-4100-af56-2cfa8de7741d",
   "metadata": {},
   "outputs": [
    {
     "name": "stdout",
     "output_type": "stream",
     "text": [
      "2.10.0\n"
     ]
    }
   ],
   "source": [
    "import tensorflow as tf\n",
    "\n",
    "print(tf.__version__)"
   ]
  }
 ],
 "metadata": {
  "kernelspec": {
   "display_name": "Python 3 (ipykernel)",
   "language": "python",
   "name": "python3"
  },
  "language_info": {
   "codemirror_mode": {
    "name": "ipython",
    "version": 3
   },
   "file_extension": ".py",
   "mimetype": "text/x-python",
   "name": "python",
   "nbconvert_exporter": "python",
   "pygments_lexer": "ipython3",
   "version": "3.10.9"
  }
 },
 "nbformat": 4,
 "nbformat_minor": 5
}
